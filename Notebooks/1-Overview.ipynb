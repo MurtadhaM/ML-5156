{
 "cells": [
  {
   "cell_type": "markdown",
   "metadata": {
    "slideshow": {
     "slide_type": "slide"
    }
   },
   "source": [
    "# Overview\n",
    "\n",
    "\n",
    "##### ITCS 5156:  Introduction to Machine Learning \n",
    "\n",
    "\n",
    "#### Minwoo \"Jake\" Lee\n"
   ]
  },
  {
   "cell_type": "markdown",
   "metadata": {
    "slideshow": {
     "slide_type": "fragment"
    }
   },
   "source": [
    "# What is Machine Learning\n",
    "\n",
    "\n"
   ]
  },
  {
   "cell_type": "markdown",
   "metadata": {
    "slideshow": {
     "slide_type": "fragment"
    }
   },
   "source": [
    "\n",
    "\n",
    "> \"The only source of knowledge is experience.\"  - Albert Einstein\n",
    "\n"
   ]
  },
  {
   "cell_type": "markdown",
   "metadata": {
    "slideshow": {
     "slide_type": "fragment"
    }
   },
   "source": [
    "\n",
    "\n",
    "\n",
    "> Machine learning is the field of study that gives computers the ability to learn without being **explicitly programmed**.  - Arthur Samuel\n"
   ]
  },
  {
   "cell_type": "markdown",
   "metadata": {
    "slideshow": {
     "slide_type": "fragment"
    }
   },
   "source": [
    "\n",
    "\n",
    "- Recognizing a pattern / rule\n",
    "- Learning: discovery of new knowledge"
   ]
  },
  {
   "cell_type": "markdown",
   "metadata": {
    "slideshow": {
     "slide_type": "slide"
    }
   },
   "source": [
    "# What Follows Next? \n",
    "\n",
    "- 2, 4, 6, 8, 10, 12, ?"
   ]
  },
  {
   "cell_type": "markdown",
   "metadata": {
    "slideshow": {
     "slide_type": "fragment"
    }
   },
   "source": [
    "- 2, 4, 6, 8, 10, 12, <b><font color=\"red\" bold=True> 13</font></b>"
   ]
  },
  {
   "cell_type": "markdown",
   "metadata": {
    "slideshow": {
     "slide_type": "fragment"
    }
   },
   "source": [
    "## why? \n"
   ]
  },
  {
   "cell_type": "markdown",
   "metadata": {
    "slideshow": {
     "slide_type": "fragment"
    }
   },
   "source": [
    "- 2, 4, 6, 8, 10, 12, 13, 2, 4, 6, 8, 10, 12, 13, 2, 4, 6, 8, 10, 12, 13, ..."
   ]
  },
  {
   "cell_type": "markdown",
   "metadata": {
    "slideshow": {
     "slide_type": "fragment"
    }
   },
   "source": [
    "- 2, 4, 6, 8, 10, 12, 13, 2, 4, 6, 8, 10, 12, 13, 2, 4, 6, 8, 10, 12, 13, 2, 4, 6, 8, 10, 12, ? "
   ]
  },
  {
   "cell_type": "markdown",
   "metadata": {
    "slideshow": {
     "slide_type": "fragment"
    }
   },
   "source": [
    "- 2, 4, 6, 8, 10, 12, 13, 2, 4, 6, 8, 10, 12, 13, 2, 4, 6, 8, 10, 12, 13, 2, 4, 6, 8, 10, 12, 9 "
   ]
  },
  {
   "cell_type": "markdown",
   "metadata": {
    "slideshow": {
     "slide_type": "slide"
    }
   },
   "source": [
    "# Learning Pattern\n",
    "\n",
    "\n",
    "![](http://webpages.uncc.edu/mlee173/teach/ml/images/class/1stgrader_pattern.png)"
   ]
  },
  {
   "cell_type": "markdown",
   "metadata": {
    "slideshow": {
     "slide_type": "slide"
    }
   },
   "source": [
    "# Why ML? \n",
    "\n",
    "- Maintenance of codes\n",
    "- Complex problems\n",
    "- Changing data or environment\n",
    "- Discovery or new knowlege\n",
    "- Large data - data mining"
   ]
  },
  {
   "cell_type": "markdown",
   "metadata": {
    "slideshow": {
     "slide_type": "slide"
    }
   },
   "source": [
    "# Traditional Coding / Planning\n",
    "\n",
    "\n",
    "![unreadable flowchart](http://spaceotechnologies.s3.amazonaws.com/wp-content/uploads/2015/03/flowcharts.png)\n"
   ]
  },
  {
   "cell_type": "markdown",
   "metadata": {
    "slideshow": {
     "slide_type": "slide"
    }
   },
   "source": [
    "# Machine Learning Problems and Applications"
   ]
  },
  {
   "cell_type": "markdown",
   "metadata": {
    "slideshow": {
     "slide_type": "slide"
    }
   },
   "source": [
    "\n",
    "# Object Detection\n",
    "\n",
    "![](http://www.arcsoft.com/resource/image/technology/object-recognition/object-recognition-feature.jpg)\n"
   ]
  },
  {
   "cell_type": "markdown",
   "metadata": {
    "slideshow": {
     "slide_type": "slide"
    }
   },
   "source": [
    "# How-Old.net\n",
    "\n",
    "![](http://webpages.uncc.edu/mlee173/teach/ml/images/class/howoldnet.png)"
   ]
  },
  {
   "cell_type": "markdown",
   "metadata": {
    "slideshow": {
     "slide_type": "slide"
    }
   },
   "source": [
    "# Natural Language Processing and Decision Making\n",
    "\n",
    "![](http://webpages.uncc.edu/mlee173/teach/ml/images/class/watson.png)"
   ]
  },
  {
   "cell_type": "markdown",
   "metadata": {
    "slideshow": {
     "slide_type": "slide"
    }
   },
   "source": [
    "# Machine Translation\n",
    "\n",
    "<img src=\"https://lh3.googleusercontent.com/8GQRxInP-DOFvxzgXQKK3XJcuXbTq_-uFG-dccfy-S4FwSyHoqsMwYROSC04aKHJBFc=w412-h220-rw\" width=350 />"
   ]
  },
  {
   "cell_type": "markdown",
   "metadata": {
    "slideshow": {
     "slide_type": "slide"
    }
   },
   "source": [
    "# Playing Complex Games\n",
    "\n",
    "- (19 x 19)! cases\n",
    "\n",
    "![](http://webpages.uncc.edu/mlee173/teach/ml/images/class/alphago.png)"
   ]
  },
  {
   "cell_type": "markdown",
   "metadata": {
    "slideshow": {
     "slide_type": "slide"
    }
   },
   "source": [
    "# Self-Driving Car\n",
    "\n",
    "![](https://www.roboticsbusinessreview.com/wp-content/uploads/2019/10/AdobeStock_224332680-1000x500.jpeg)"
   ]
  },
  {
   "cell_type": "markdown",
   "metadata": {
    "slideshow": {
     "slide_type": "slide"
    }
   },
   "source": [
    "# Recommendation Systems\n",
    "\n",
    "<img src=\"https://miro.medium.com/proxy/1*UEIb9b7VT0u5NMBeZajxjg.png\" width=400 /> \n",
    "<img src=\"https://miro.medium.com/max/1200/0*MOp6jspXhhMo-uoU.png\" width=400 /> \n"
   ]
  },
  {
   "cell_type": "markdown",
   "metadata": {
    "slideshow": {
     "slide_type": "slide"
    }
   },
   "source": [
    "# Control Problems\n",
    "\n",
    "![](http://webpages.uncc.edu/mlee173/teach/ml/images/class/openaigym.png)"
   ]
  },
  {
   "cell_type": "markdown",
   "metadata": {
    "slideshow": {
     "slide_type": "slide"
    }
   },
   "source": [
    "# Medical Diagnosis\n",
    "\n",
    "![](https://internetofbusiness.com/wp-content/uploads/2018/05/dementia-640x443.jpg)"
   ]
  },
  {
   "cell_type": "markdown",
   "metadata": {
    "slideshow": {
     "slide_type": "slide"
    }
   },
   "source": [
    "# Types of ML \n",
    "\n",
    "- Supervised Learning\n",
    "  - Classification\n",
    "  - Regressions\n",
    "  \n",
    "- Unsupervised Learning\n",
    "  - Clustering\n",
    "  - Dimensionality Reduction\n",
    "  \n",
    "- Reinforcement Learning\n",
    "\n",
    "- Semi-supervised Learning\n"
   ]
  },
  {
   "cell_type": "markdown",
   "metadata": {
    "slideshow": {
     "slide_type": "slide"
    }
   },
   "source": [
    "# Classification\n",
    "\n",
    "\n",
    "<img src=\"https://webpages.uncc.edu/mlee173/teach/ml/images/class/svm_classifiy.png\" width=700 />\n"
   ]
  },
  {
   "cell_type": "markdown",
   "metadata": {
    "slideshow": {
     "slide_type": "slide"
    }
   },
   "source": [
    "# Supervised Learning (Binary Classification Example)\n",
    "\n",
    "- $f: \\mathcal{X} \\rightarrow y $\n",
    "- Input: $\\mathbf{x} \\in {\\rm I\\!R}^d = \\mathcal{X}$\n",
    "- Output: $y \\in \\{-1, +1\\}$\n",
    "- Data: $D = \\{ (\\mathbf{x}_1, y_1), \\dots, (\\mathbf{x}_N, y_N) \\}$ where $y_i = f(\\mathcal{x}_i)$."
   ]
  },
  {
   "cell_type": "markdown",
   "metadata": {
    "slideshow": {
     "slide_type": "slide"
    }
   },
   "source": [
    "# Regression\n",
    "\n",
    "<img src=\"https://webpages.uncc.edu/mlee173/teach/ml/images/class/poly_regress.png\" width=800 />"
   ]
  },
  {
   "cell_type": "markdown",
   "metadata": {
    "slideshow": {
     "slide_type": "slide"
    }
   },
   "source": [
    "# Supervised Learning (Regression)\n",
    "\n",
    "- $f: \\mathcal{X} \\rightarrow y $\n",
    "- Input: $\\mathbf{x} \\in {\\rm I\\!R}^d = \\mathcal{X}$\n",
    "- <font color=\"red\">Output: $y \\in {\\rm I\\!R}$ </font>\n",
    "- Data: $D = \\{ (\\mathbf{x}_1, y_1), \\dots, (\\mathbf{x}_N, y_N) \\}$ where $y_i = f(\\mathcal{x}_i)$."
   ]
  },
  {
   "cell_type": "markdown",
   "metadata": {
    "slideshow": {
     "slide_type": "slide"
    }
   },
   "source": [
    "# Clustering\n",
    "\n",
    "<img src=\"https://upload.wikimedia.org/wikipedia/commons/e/ea/K-means_convergence.gif\" width=450 />\n",
    "wikipedia.org"
   ]
  },
  {
   "cell_type": "markdown",
   "metadata": {
    "slideshow": {
     "slide_type": "slide"
    }
   },
   "source": [
    "# Dimensionality Reduction\n",
    "\n",
    "<img src=\"http://www.turingfinance.com/wp-content/uploads/2014/10/Dimensionality.png\" width=600 />\n",
    "http://bigsnarf.wordpress.com/category/thoughts/page/4/"
   ]
  },
  {
   "cell_type": "markdown",
   "metadata": {
    "slideshow": {
     "slide_type": "slide"
    }
   },
   "source": [
    "# Reinforcement Learning\n",
    "\n",
    "![](http://twistedsifter.files.wordpress.com/2010/09/pavlovs-dogs-mark-stivers.gif?w=675&h=539&zoom=2)\n",
    "http://twistedsifter.com/"
   ]
  },
  {
   "cell_type": "markdown",
   "metadata": {
    "slideshow": {
     "slide_type": "slide"
    }
   },
   "source": [
    "# Semi-supervised Learning\n",
    "\n",
    "![](https://upload.wikimedia.org/wikipedia/commons/d/d0/Example_of_unlabeled_data_in_semisupervised_learning.png)\n",
    "wikipedia.org"
   ]
  },
  {
   "cell_type": "markdown",
   "metadata": {
    "slideshow": {
     "slide_type": "slide"
    }
   },
   "source": [
    "# Challenges of ML \n",
    "\n",
    "- Insufficient Data: ML needs more than you think\n",
    "- Nonrepresentative data\n",
    "  - Interpolation vs Extrapolation\n",
    "  - sampling bias\n",
    "- Poor-Quality data\n",
    "- Irrelevant Features\n",
    "- Overfitting\n",
    "  - regularization\n",
    "  - early stopping\n",
    "- Underfitting\n"
   ]
  },
  {
   "cell_type": "markdown",
   "metadata": {
    "slideshow": {
     "slide_type": "slide"
    }
   },
   "source": [
    "# What is the best model to choose? \n",
    "\n",
    "- Testing and Validating\n",
    "- No Free Lunch Theorem - David Wolpert\n",
    "  - Test reasonable models or test them all. \n"
   ]
  },
  {
   "cell_type": "markdown",
   "metadata": {
    "slideshow": {
     "slide_type": "slide"
    }
   },
   "source": [
    "# ML Setup\n",
    "\n",
    "<img src=\"http://webpages.uncc.edu/mlee173/teach/ml/images/class/learning_setup_LFD.png\" width=600 />\n",
    "\n",
    "Learning from Data - Yaser S. Abu-Mostafa, Malik Magdon-Ismail, and Tsuan-Tien Ln (http://amlbook.com)"
   ]
  },
  {
   "cell_type": "markdown",
   "metadata": {
    "slideshow": {
     "slide_type": "slide"
    }
   },
   "source": [
    "# ML Pipeline\n",
    "\n",
    "<img src=\"https://cdn-images-1.medium.com/max/1600/1*_QGyIwpgq831xI54cIe_GQ.jpeg\" width=1200 />"
   ]
  },
  {
   "cell_type": "markdown",
   "metadata": {
    "slideshow": {
     "slide_type": "slide"
    }
   },
   "source": [
    "# ML Pipeline: Ref. Video\n",
    "\n",
    "\n",
    "<p><a href=\"https://blog.datarobot.com/ai-simplified-what-is-automated-machine-learning?mkt_tok=eyJpIjoiWkRKaVpEZ3dOMkl6TjJVMCIsInQiOiJFUDRWa1A2MFRwWDJhQ0dFQ2dYZlwvc21MdTBuTTl0OTd3Z3F3YWNTVkZTMEpjOHZOZmUrU3F4Y0hGeGM4Y1VSQ0x6bWZ6Vnh6K1hKNDZyeXlwNUIwcUg3WDlrY1JUWHd5S0xBV3lFYkRFODhqWE5wY1wvNU1HaHFNWU5SVlJTMUtzIn0%3D&amp;wvideo=k96yic0jjx\"><img src=\"https://embedwistia-a.akamaihd.net/deliveries/f2a05488965d5ec99e50fd4c96e3da850dfffcd9.jpg?image_play_button_size=2x&amp;image_crop_resized=960x540&amp;image_play_button=1&amp;image_play_button_color=54bbffe0\" width=\"400\" height=\"225\" style=\"width: 400px; height: 225px;\"></a></p><p><a href=\"https://blog.datarobot.com/ai-simplified-what-is-automated-machine-learning?mkt_tok=eyJpIjoiWkRKaVpEZ3dOMkl6TjJVMCIsInQiOiJFUDRWa1A2MFRwWDJhQ0dFQ2dYZlwvc21MdTBuTTl0OTd3Z3F3YWNTVkZTMEpjOHZOZmUrU3F4Y0hGeGM4Y1VSQ0x6bWZ6Vnh6K1hKNDZyeXlwNUIwcUg3WDlrY1JUWHd5S0xBV3lFYkRFODhqWE5wY1wvNU1HaHFNWU5SVlJTMUtzIn0%3D&amp;wvideo=k96yic0jjx\">AI Simplified: What is Machine Learning?</a></p>  by Tom (DataRobot)"
   ]
  },
  {
   "cell_type": "markdown",
   "metadata": {
    "slideshow": {
     "slide_type": "slide"
    }
   },
   "source": [
    "# ML Tools"
   ]
  },
  {
   "cell_type": "markdown",
   "metadata": {
    "slideshow": {
     "slide_type": "slide"
    }
   },
   "source": [
    "# Why Python\n",
    "\n",
    "- Free! \n",
    "- Large community of ML researchers\n",
    "- Libraries for plotting and linear algebra (even ML libraries)\n",
    "- cross-platform compatibility\n",
    "- An iterpreteed language"
   ]
  },
  {
   "cell_type": "markdown",
   "metadata": {
    "slideshow": {
     "slide_type": "slide"
    }
   },
   "source": [
    "# Numpy\n",
    "\n",
    "- Vector and Matrix operations"
   ]
  },
  {
   "cell_type": "code",
   "execution_count": 4,
   "metadata": {},
   "outputs": [
    {
     "name": "stdout",
     "output_type": "stream",
     "text": [
      "[4 2 1]\n",
      "[2. 2. 2.]\n",
      "6.0\n"
     ]
    }
   ],
   "source": [
    "import numpy as np \n",
    "\n",
    "A = np.array([4,2,1])\n",
    "B = np.array([0.5, 1, 2])\n",
    "\n",
    "print(A)\n",
    "print(A * B)\n",
    "print(A @ B)"
   ]
  },
  {
   "cell_type": "markdown",
   "metadata": {
    "slideshow": {
     "slide_type": "slide"
    }
   },
   "source": [
    "# Matplotlib\n",
    "\n",
    "- visusalize the data or results"
   ]
  },
  {
   "cell_type": "code",
   "execution_count": 5,
   "metadata": {
    "slideshow": {
     "slide_type": "-"
    }
   },
   "outputs": [
    {
     "data": {
      "text/plain": [
       "[<matplotlib.lines.Line2D at 0x11d2befd0>]"
      ]
     },
     "execution_count": 5,
     "metadata": {},
     "output_type": "execute_result"
    },
    {
     "data": {
      "image/png": "[encoded data removed]",
      "text/plain": [
       "<Figure size 432x288 with 1 Axes>"
      ]
     },
     "metadata": {
      "needs_background": "light"
     },
     "output_type": "display_data"
    }
   ],
   "source": [
    "import matplotlib.pyplot as plt \n",
    "%matplotlib inline\n",
    "\n",
    "plt.plot(A)"
   ]
  },
  {
   "cell_type": "markdown",
   "metadata": {
    "slideshow": {
     "slide_type": "slide"
    }
   },
   "source": [
    "# Scikit Learn\n",
    "\n",
    "- Machine learning library\n",
    "- Classification, Regression, Clustering, Dimensionality Reduction, Model Selection, Preprocessing"
   ]
  },
  {
   "cell_type": "markdown",
   "metadata": {
    "slideshow": {
     "slide_type": "slide"
    }
   },
   "source": [
    "# Pandas\n",
    "\n",
    "- Tools for reading and analyzing data"
   ]
  },
  {
   "cell_type": "code",
   "execution_count": null,
   "metadata": {
    "collapsed": true,
    "slideshow": {
     "slide_type": "-"
    }
   },
   "outputs": [],
   "source": [
    "import pandas as pd\n",
    "\n",
    "# The inital set of baby names and bith rates\n",
    "names = ['Bob','Jessica','Mary','John','Mel']\n",
    "births = [968, 155, 77, 578, 973]\n",
    "\n",
    "BabyDataSet = list(zip(names,births))\n",
    "df = pd.DataFrame(data = BabyDataSet, columns=['Names', 'Births'])\n",
    "\n",
    "print(BabyDataSet)\n",
    "df"
   ]
  },
  {
   "cell_type": "markdown",
   "metadata": {
    "slideshow": {
     "slide_type": "slide"
    }
   },
   "source": [
    "# TensorFlow\n",
    "\n",
    "- library for numerical computation\n",
    "- data flow graphs\n",
    "- can be deployed multiple CPUs or GPUs"
   ]
  },
  {
   "cell_type": "code",
   "execution_count": 6,
   "metadata": {
    "slideshow": {
     "slide_type": "slide"
    }
   },
   "outputs": [
    {
     "name": "stdout",
     "output_type": "stream",
     "text": [
      "a=2, b=3\n",
      "Addition with constants: 5\n",
      "Multiplication with constants: 6\n"
     ]
    }
   ],
   "source": [
    "import tensorflow as tf\n",
    "\n",
    "# Basic constant operations\n",
    "# The value returned by the constructor represents the output\n",
    "# of the Constant op.\n",
    "a = tf.constant(2)\n",
    "b = tf.constant(3)\n",
    "add = a+ b\n",
    "mul = a * b\n",
    "\n",
    "# Launch the default graph.\n",
    "print(\"a=2, b=3\")\n",
    "print(\"Addition with constants: %i\" % add)\n",
    "print(\"Multiplication with constants: %i\" % mul)\n"
   ]
  },
  {
   "cell_type": "markdown",
   "metadata": {
    "slideshow": {
     "slide_type": "slide"
    }
   },
   "source": [
    "# Data / Applications\n",
    "\n",
    "- [UCI Data Repository](https://archive.ics.uci.edu/ml/datasets.html)\n",
    "- [Kaggle Data](https://www.kaggle.com)\n",
    "- [KDNugget](http://www.kdnuggets.com/)\n",
    "- [ImageNet](http://www.image-net.org/)\n",
    "\n",
    "\n",
    "- [OpenAI Gym](https://gym.openai.com)\n",
    "- [Robot Benchmark](https://robotbenchmark.net/)\n",
    "\n",
    "\n",
    "And far more [here](https://en.wikipedia.org/wiki/List_of_datasets_for_machine_learning_research)"
   ]
  },
  {
   "cell_type": "markdown",
   "metadata": {
    "slideshow": {
     "slide_type": "slide"
    }
   },
   "source": [
    "# Summary\n",
    "\n",
    "\n",
    "- Types of ML?\n",
    "- Packages that we will use\n",
    "- Challenges of ML? \n",
    "- Model Selection"
   ]
  },
  {
   "cell_type": "markdown",
   "metadata": {
    "slideshow": {
     "slide_type": "slide"
    }
   },
   "source": [
    "# To Do!\n",
    "\n",
    "1. install Python & Jupyter (install Anaconda)\n",
    "2. install [RISE](https://github.com/damianavila/RISE) for slideshow. \n",
    "3. watch section 1 [Scipy lecture notes](http://www.scipy-lectures.org/)\n",
    "4. run Jupyter and practice the examples in Section 1. \n",
    "\n",
    "# Then\n",
    "\n",
    "- Practice the class tools\n",
    "- Be ready for ML\n",
    "- The [25 Best Data Visualizattions of 2018](https://towardsdatascience.com/the-25-best-data-visualizations-of-2018-93643f0aad04)"
   ]
  }
 ],
 "metadata": {
  "celltoolbar": "Slideshow",
  "kernelspec": {
   "display_name": "Python 3",
   "language": "python",
   "name": "python3"
  },
  "language_info": {
   "codemirror_mode": {
    "name": "ipython",
    "version": 3
   },
   "file_extension": ".py",
   "mimetype": "text/x-python",
   "name": "python",
   "nbconvert_exporter": "python",
   "pygments_lexer": "ipython3",
   "version": "3.7.4"
  }
 },
 "nbformat": 4,
 "nbformat_minor": 2
}
